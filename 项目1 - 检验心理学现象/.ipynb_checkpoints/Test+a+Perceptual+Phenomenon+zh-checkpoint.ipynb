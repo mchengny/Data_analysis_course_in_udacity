{
 "cells": [
  {
   "cell_type": "markdown",
   "metadata": {},
   "source": [
    "### 统计学：检验心理学现象\n",
    "\n",
    "在下方单元格中回答问题并执行相关代码，你可以 [参考项目指导](https://github.com/udacity/new-dand-advanced-china/blob/master/%E6%A3%80%E9%AA%8C%E5%BF%83%E7%90%86%E5%AD%A6%E7%8E%B0%E8%B1%A1/%E7%BB%9F%E8%AE%A1%E5%AD%A6%EF%BC%9A%E6%A3%80%E9%AA%8C%E5%BF%83%E7%90%86%E5%AD%A6%E7%8E%B0%E8%B1%A1.md) 并在正式提交前查看 [项目要求](https://review.udacity.com/#!/rubrics/305/view)。提交时请将 Jupyter notebook 导出成 HTML 或者 PDF 进行提交（File -> Download As）。\n",
    "\n",
    "背景信息\n",
    "\n",
    "在一个Stroop （斯特鲁普）任务中，参与者得到了一列文字，每个文字都用一种油墨颜色展示。参与者的任务是将文字的打印颜色大声说出来。这项任务有两个条件：一致文字条件，和不一致文字条件。在一致文字条件中，显示的文字是与它们的打印颜色匹配的颜色词，如“红色”、“蓝色”。在不一致文字条件中，显示的文字是与它们的打印颜色不匹配的颜色词，如“紫色”、“橙色”。在每个情况中，我们将计量说出同等大小的列表中的墨色名称的时间。每位参与者必须全部完成并记录每种条件下使用的时间。\n",
    "\n",
    "调查问题\n",
    "\n",
    "作为一般说明，请确保记录你在创建项目时使用或参考的任何资源。作为项目提交的一部分，你将需要报告信息来源。\n",
    "\n",
    "(1) 我们的自变量是什么？因变量是什么？"
   ]
  },
  {
   "cell_type": "markdown",
   "metadata": {},
   "source": [
    "- 自变量：参与该项测试实验时，测试者所接受的文字与实际颜色一致或不一致的条件\n",
    "\n",
    "- 因变量：参与该项测试实验的测试者说出同等大小的列表中的墨色名称的时间长短"
   ]
  },
  {
   "cell_type": "markdown",
   "metadata": {},
   "source": [
    "(2) 此任务的适当假设集是什么？你需要以文字和数学符号方式对假设集中的零假设和对立假设加以说明，并对数学符号进行定义。你想执行什么类型的统计检验？为你的选择提供正当理由（比如，为何该实验满足你所选统计检验的前置条件）。"
   ]
  },
  {
   "cell_type": "markdown",
   "metadata": {},
   "source": [
    "##### 1. 作出假设\n",
    "\n",
    "H0：uI - uC = 0（不一致文字条件，不会显著影响参与者说出同等大小的列表中的墨色名称时间的均值）  \n",
    "Ha：uI - uC ≠0（不一致文字条件，会显著影响参与者说出同等大小的列表中的墨色名称时间的均值）\n",
    "\n",
    "说明：\n",
    "\n",
    "uC---在文字与实际颜色相同的情况下，测试者说出同等大小的列表中所存在的的墨色名称时间的均值\n",
    "\n",
    "uI---在文字与实际颜色不同的情况下，测试者说出同等大小的列表中所存在的墨色名称时间的均值\n",
    "\n",
    "##### 2. 选择检验\n",
    "\n",
    "使用的是相依样本t检验，双尾检验；\n",
    "\n",
    "理由如下：\n",
    "\n",
    "1）同一个测试者参加两种不同条件下的测试，因此是相依样本；\n",
    "\n",
    "2）样本数据量少，小于30，且不知道总体的参数，因此选择t检验；\n",
    "\n",
    "3）探究两种不同的条件下，总体的均值是否有明星差异，因此选择双尾检验\n",
    "\n",
    "\n",
    "\n",
    "##### 3. t检验前提：\n",
    "\n",
    "1)已知一个总体均数（可以通过本实验数据计算获得）\n",
    "\n",
    "2) 可得到一个样本均数及该样本标准差（可以通过本实验数据计算获得）\n",
    "\n",
    "3) 样本来自正态或近似正态总体（本实验符合中心极限定理，即从总体中抽取样本，样本均值的分布接近正态分布）\n",
    "\n"
   ]
  },
  {
   "cell_type": "markdown",
   "metadata": {},
   "source": [
    "现在轮到你自行尝试 Stroop 任务了。前往此链接，其中包含一个基于 Java 的小程序，专门用于执行 Stroop 任务。记录你收到的任务时间（你无需将时间提交到网站）。现在下载此数据集，其中包含一些任务参与者的结果。数据集的每行包含一名参与者的表现，第一个数字代表他们的一致任务结果，第二个数字代表不一致任务结果。\n",
    "\n",
    "(3) 报告关于此数据集的一些描述性统计。包含至少一个集中趋势测量和至少一个变异测量。"
   ]
  },
  {
   "cell_type": "markdown",
   "metadata": {},
   "source": [
    "##### 1  \n",
    "为了想了解同一参与者在文字一致和不一致条件下，参与者说出同等大小的列表中的墨色名称的时间差异，故增加一列数据Difference Time(=Incongruent Time- Congruent Time)，处理后数据集如下"
   ]
  },
  {
   "cell_type": "code",
   "execution_count": 11,
   "metadata": {},
   "outputs": [
    {
     "data": {
      "text/html": [
       "<div>\n",
       "<style>\n",
       "    .dataframe thead tr:only-child th {\n",
       "        text-align: right;\n",
       "    }\n",
       "\n",
       "    .dataframe thead th {\n",
       "        text-align: left;\n",
       "    }\n",
       "\n",
       "    .dataframe tbody tr th {\n",
       "        vertical-align: top;\n",
       "    }\n",
       "</style>\n",
       "<table border=\"1\" class=\"dataframe\">\n",
       "  <thead>\n",
       "    <tr style=\"text-align: right;\">\n",
       "      <th></th>\n",
       "      <th>Congruent</th>\n",
       "      <th>Incongruent</th>\n",
       "      <th>Difference_Time</th>\n",
       "    </tr>\n",
       "  </thead>\n",
       "  <tbody>\n",
       "    <tr>\n",
       "      <th>0</th>\n",
       "      <td>12.079</td>\n",
       "      <td>19.278</td>\n",
       "      <td>7.199</td>\n",
       "    </tr>\n",
       "    <tr>\n",
       "      <th>1</th>\n",
       "      <td>16.791</td>\n",
       "      <td>18.741</td>\n",
       "      <td>1.950</td>\n",
       "    </tr>\n",
       "    <tr>\n",
       "      <th>2</th>\n",
       "      <td>9.564</td>\n",
       "      <td>21.214</td>\n",
       "      <td>11.650</td>\n",
       "    </tr>\n",
       "    <tr>\n",
       "      <th>3</th>\n",
       "      <td>8.630</td>\n",
       "      <td>15.687</td>\n",
       "      <td>7.057</td>\n",
       "    </tr>\n",
       "    <tr>\n",
       "      <th>4</th>\n",
       "      <td>14.669</td>\n",
       "      <td>22.803</td>\n",
       "      <td>8.134</td>\n",
       "    </tr>\n",
       "    <tr>\n",
       "      <th>5</th>\n",
       "      <td>12.238</td>\n",
       "      <td>20.878</td>\n",
       "      <td>8.640</td>\n",
       "    </tr>\n",
       "    <tr>\n",
       "      <th>6</th>\n",
       "      <td>14.692</td>\n",
       "      <td>24.572</td>\n",
       "      <td>9.880</td>\n",
       "    </tr>\n",
       "    <tr>\n",
       "      <th>7</th>\n",
       "      <td>8.987</td>\n",
       "      <td>17.394</td>\n",
       "      <td>8.407</td>\n",
       "    </tr>\n",
       "    <tr>\n",
       "      <th>8</th>\n",
       "      <td>9.401</td>\n",
       "      <td>20.762</td>\n",
       "      <td>11.361</td>\n",
       "    </tr>\n",
       "    <tr>\n",
       "      <th>9</th>\n",
       "      <td>14.480</td>\n",
       "      <td>26.282</td>\n",
       "      <td>11.802</td>\n",
       "    </tr>\n",
       "    <tr>\n",
       "      <th>10</th>\n",
       "      <td>22.328</td>\n",
       "      <td>24.524</td>\n",
       "      <td>2.196</td>\n",
       "    </tr>\n",
       "    <tr>\n",
       "      <th>11</th>\n",
       "      <td>15.298</td>\n",
       "      <td>18.644</td>\n",
       "      <td>3.346</td>\n",
       "    </tr>\n",
       "    <tr>\n",
       "      <th>12</th>\n",
       "      <td>15.073</td>\n",
       "      <td>17.510</td>\n",
       "      <td>2.437</td>\n",
       "    </tr>\n",
       "    <tr>\n",
       "      <th>13</th>\n",
       "      <td>16.929</td>\n",
       "      <td>20.330</td>\n",
       "      <td>3.401</td>\n",
       "    </tr>\n",
       "    <tr>\n",
       "      <th>14</th>\n",
       "      <td>18.200</td>\n",
       "      <td>35.255</td>\n",
       "      <td>17.055</td>\n",
       "    </tr>\n",
       "    <tr>\n",
       "      <th>15</th>\n",
       "      <td>12.130</td>\n",
       "      <td>22.158</td>\n",
       "      <td>10.028</td>\n",
       "    </tr>\n",
       "    <tr>\n",
       "      <th>16</th>\n",
       "      <td>18.495</td>\n",
       "      <td>25.139</td>\n",
       "      <td>6.644</td>\n",
       "    </tr>\n",
       "    <tr>\n",
       "      <th>17</th>\n",
       "      <td>10.639</td>\n",
       "      <td>20.429</td>\n",
       "      <td>9.790</td>\n",
       "    </tr>\n",
       "    <tr>\n",
       "      <th>18</th>\n",
       "      <td>11.344</td>\n",
       "      <td>17.425</td>\n",
       "      <td>6.081</td>\n",
       "    </tr>\n",
       "    <tr>\n",
       "      <th>19</th>\n",
       "      <td>12.369</td>\n",
       "      <td>34.288</td>\n",
       "      <td>21.919</td>\n",
       "    </tr>\n",
       "    <tr>\n",
       "      <th>20</th>\n",
       "      <td>12.944</td>\n",
       "      <td>23.894</td>\n",
       "      <td>10.950</td>\n",
       "    </tr>\n",
       "    <tr>\n",
       "      <th>21</th>\n",
       "      <td>14.233</td>\n",
       "      <td>17.960</td>\n",
       "      <td>3.727</td>\n",
       "    </tr>\n",
       "    <tr>\n",
       "      <th>22</th>\n",
       "      <td>19.710</td>\n",
       "      <td>22.058</td>\n",
       "      <td>2.348</td>\n",
       "    </tr>\n",
       "    <tr>\n",
       "      <th>23</th>\n",
       "      <td>16.004</td>\n",
       "      <td>21.157</td>\n",
       "      <td>5.153</td>\n",
       "    </tr>\n",
       "  </tbody>\n",
       "</table>\n",
       "</div>"
      ],
      "text/plain": [
       "    Congruent  Incongruent  Difference_Time\n",
       "0      12.079       19.278            7.199\n",
       "1      16.791       18.741            1.950\n",
       "2       9.564       21.214           11.650\n",
       "3       8.630       15.687            7.057\n",
       "4      14.669       22.803            8.134\n",
       "5      12.238       20.878            8.640\n",
       "6      14.692       24.572            9.880\n",
       "7       8.987       17.394            8.407\n",
       "8       9.401       20.762           11.361\n",
       "9      14.480       26.282           11.802\n",
       "10     22.328       24.524            2.196\n",
       "11     15.298       18.644            3.346\n",
       "12     15.073       17.510            2.437\n",
       "13     16.929       20.330            3.401\n",
       "14     18.200       35.255           17.055\n",
       "15     12.130       22.158           10.028\n",
       "16     18.495       25.139            6.644\n",
       "17     10.639       20.429            9.790\n",
       "18     11.344       17.425            6.081\n",
       "19     12.369       34.288           21.919\n",
       "20     12.944       23.894           10.950\n",
       "21     14.233       17.960            3.727\n",
       "22     19.710       22.058            2.348\n",
       "23     16.004       21.157            5.153"
      ]
     },
     "execution_count": 11,
     "metadata": {},
     "output_type": "execute_result"
    }
   ],
   "source": [
    "import pandas as pd\n",
    "\n",
    "%matplotlib inline\n",
    "\n",
    "data = pd.read_csv('stroopdata.csv')\n",
    "\n",
    "data['Difference_Time'] = data.Incongruent - data.Congruent\n",
    "\n",
    "data"
   ]
  },
  {
   "cell_type": "markdown",
   "metadata": {},
   "source": [
    "##### 2  \n",
    "对该数据集进行描述性统计，如下："
   ]
  },
  {
   "cell_type": "code",
   "execution_count": 8,
   "metadata": {},
   "outputs": [
    {
     "data": {
      "text/html": [
       "<div>\n",
       "<style>\n",
       "    .dataframe thead tr:only-child th {\n",
       "        text-align: right;\n",
       "    }\n",
       "\n",
       "    .dataframe thead th {\n",
       "        text-align: left;\n",
       "    }\n",
       "\n",
       "    .dataframe tbody tr th {\n",
       "        vertical-align: top;\n",
       "    }\n",
       "</style>\n",
       "<table border=\"1\" class=\"dataframe\">\n",
       "  <thead>\n",
       "    <tr style=\"text-align: right;\">\n",
       "      <th></th>\n",
       "      <th>Congruent</th>\n",
       "      <th>Incongruent</th>\n",
       "      <th>Difference_Time</th>\n",
       "    </tr>\n",
       "  </thead>\n",
       "  <tbody>\n",
       "    <tr>\n",
       "      <th>count</th>\n",
       "      <td>24.000000</td>\n",
       "      <td>24.000000</td>\n",
       "      <td>24.000000</td>\n",
       "    </tr>\n",
       "    <tr>\n",
       "      <th>mean</th>\n",
       "      <td>14.051125</td>\n",
       "      <td>22.015917</td>\n",
       "      <td>7.964792</td>\n",
       "    </tr>\n",
       "    <tr>\n",
       "      <th>std</th>\n",
       "      <td>3.559358</td>\n",
       "      <td>4.797057</td>\n",
       "      <td>4.864827</td>\n",
       "    </tr>\n",
       "    <tr>\n",
       "      <th>min</th>\n",
       "      <td>8.630000</td>\n",
       "      <td>15.687000</td>\n",
       "      <td>1.950000</td>\n",
       "    </tr>\n",
       "    <tr>\n",
       "      <th>25%</th>\n",
       "      <td>11.895250</td>\n",
       "      <td>18.716750</td>\n",
       "      <td>3.645500</td>\n",
       "    </tr>\n",
       "    <tr>\n",
       "      <th>50%</th>\n",
       "      <td>14.356500</td>\n",
       "      <td>21.017500</td>\n",
       "      <td>7.666500</td>\n",
       "    </tr>\n",
       "    <tr>\n",
       "      <th>75%</th>\n",
       "      <td>16.200750</td>\n",
       "      <td>24.051500</td>\n",
       "      <td>10.258500</td>\n",
       "    </tr>\n",
       "    <tr>\n",
       "      <th>max</th>\n",
       "      <td>22.328000</td>\n",
       "      <td>35.255000</td>\n",
       "      <td>21.919000</td>\n",
       "    </tr>\n",
       "  </tbody>\n",
       "</table>\n",
       "</div>"
      ],
      "text/plain": [
       "       Congruent  Incongruent  Difference_Time\n",
       "count  24.000000    24.000000        24.000000\n",
       "mean   14.051125    22.015917         7.964792\n",
       "std     3.559358     4.797057         4.864827\n",
       "min     8.630000    15.687000         1.950000\n",
       "25%    11.895250    18.716750         3.645500\n",
       "50%    14.356500    21.017500         7.666500\n",
       "75%    16.200750    24.051500        10.258500\n",
       "max    22.328000    35.255000        21.919000"
      ]
     },
     "execution_count": 8,
     "metadata": {},
     "output_type": "execute_result"
    }
   ],
   "source": [
    "data.describe()"
   ]
  },
  {
   "cell_type": "markdown",
   "metadata": {},
   "source": [
    "- 在一致文字条件下，24名参与者的平均时间是14.051秒，中位数是14.357秒，标准差是3.559秒；\n",
    "\n",
    "- 在不一致文字条件下，24名参与者的平均时间是22.016秒，中位数是21.018秒，标准差是4.797秒；\n",
    "\n",
    "- 同一参与者说出同等大小的列表中的墨色名称所使用的时间，不一致文字条件比一致文字条件用时多，24名参与者的平均时间差异是7.965秒，中位数是7.667秒，标准差是4.865秒。"
   ]
  },
  {
   "cell_type": "markdown",
   "metadata": {},
   "source": [
    "(4) 提供显示样本数据分布的一个或两个可视化。用一两句话说明你从图中观察到的结果。"
   ]
  },
  {
   "cell_type": "code",
   "execution_count": 42,
   "metadata": {},
   "outputs": [
    {
     "data": {
      "text/plain": [
       "<matplotlib.axes._subplots.AxesSubplot at 0x3cc5d063c8>"
      ]
     },
     "execution_count": 42,
     "metadata": {},
     "output_type": "execute_result"
    },
    {
     "data": {
      "image/png": "[encoded data removed]",
      "text/plain": [
       "<matplotlib.figure.Figure at 0x3cc5d20a58>"
      ]
     },
     "metadata": {},
     "output_type": "display_data"
    }
   ],
   "source": [
    "data[['Congruent', 'Incongruent']].plot.bar(stacked=True, width=0.7, figsize=(10,5))"
   ]
  },
  {
   "cell_type": "markdown",
   "metadata": {},
   "source": [
    "##### 结论：Incongruent情况下所用时间均大于Congruent情况"
   ]
  },
  {
   "cell_type": "markdown",
   "metadata": {},
   "source": [
    "(5) 现在，执行统计测试并报告你的结果。你的置信水平和关键统计值是多少？你是否成功拒绝零假设？对试验任务得出一个结论。结果是否与你的期望一致？"
   ]
  },
  {
   "cell_type": "markdown",
   "metadata": {},
   "source": [
    "  本次统计分析使用双尾t检验，alpha水平为0.05\n",
    "    （1）自由度为23，对应的t临界值为   =  2.069\n",
    "    （2）根据双尾t检验公式得出t统计值：\n",
    "    $$ t = \\frac{\\mu_D - 0}{\\sigma_D / \\sqrt{n}} = \\frac{\\mu_D - 0}{SE} = 8.02070694410996 $$\n",
    "    （3）P值：.0001  <  .05  \n",
    "    （4）95%置信水平 （5.91021542131028， 10.019367912023）  \n",
    "    （5）效应量：\n",
    "    $$ r^{2} = \\frac{t^{2}}{t^{2} + df } = 0.736636416144506 $$"
   ]
  },
  {
   "cell_type": "markdown",
   "metadata": {},
   "source": [
    "##### 结论：\n",
    "\n",
    "通过计算，t统计值大于t临界值且P值远小于.05，可以拒绝零假设。说明两种情况下所使用的时间，有统计上的显著差异，并且“不一致”情况所使用的时间会比“一致”情况多6-10秒。有73.66%的差异是由于显示文字与打印颜色不一致造成的。该结果与期望一致。"
   ]
  },
  {
   "cell_type": "markdown",
   "metadata": {},
   "source": [
    "### Reference：\n"
   ]
  },
  {
   "cell_type": "markdown",
   "metadata": {},
   "source": [
    "- LaTex公式在线编辑器 http://latex.codecogs.com/eqneditor/editor.php\n",
    "- Udacity所提供斯普鲁斯效应数据集 stroopdata.csv\n",
    "- 维基百科 t检验 https://zh.wikipedia.org/wiki/%E5%AD%B8%E7%94%9Ft%E6%AA%A2%E9%A9%97\n",
    "- 教科书 《概率论与数理统计》- 高等教育出版社"
   ]
  }
 ],
 "metadata": {
  "anaconda-cloud": {},
  "kernelspec": {
   "display_name": "Python 3",
   "language": "python",
   "name": "python3"
  },
  "language_info": {
   "codemirror_mode": {
    "name": "ipython",
    "version": 3
   },
   "file_extension": ".py",
   "mimetype": "text/x-python",
   "name": "python",
   "nbconvert_exporter": "python",
   "pygments_lexer": "ipython3",
   "version": "3.6.3"
  }
 },
 "nbformat": 4,
 "nbformat_minor": 2
}
